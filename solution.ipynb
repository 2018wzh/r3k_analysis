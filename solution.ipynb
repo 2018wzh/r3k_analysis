{
 "cells": [
  {
   "cell_type": "markdown",
   "metadata": {},
   "source": [
    "# 三国演义 分析"
   ]
  },
  {
   "cell_type": "markdown",
   "metadata": {},
   "source": [
    "## 题干\n",
    "### 数字三国:\n",
    "- 请显示三国演义所有的回数以及回数标题和该回数的字数\n",
    "- 统计在三国演义中主要人物(自己拟定备选人物，至少10人，尽可能均衡)出现的次数，以及出场顺序，以此认定谁才是三国在演义第一主角\n",
    "- 请输出在备选人物中，用数据说话谁和谁关系最铁\n",
    "- 请输出备选人物中，战绩情况，赢几次，输几次\n",
    "- 本次上交内容为PDF报告。针对每个步骤，使用贴图证明每个题目的结果，辅以文字说明解题的思路，可适当配部分代码。\n",
    "- 每题25分，满分100分。附加分20分(题目的创意10分+整个报告美化10分)，时间1个周"
   ]
  },
  {
   "cell_type": "markdown",
   "metadata": {},
   "source": [
    "## 准备工作"
   ]
  },
  {
   "cell_type": "markdown",
   "metadata": {},
   "source": [
    "### 安装依赖\n",
    "- jieba\n",
    "- numpy"
   ]
  },
  {
   "cell_type": "code",
   "execution_count": 3,
   "metadata": {
    "vscode": {
     "languageId": "shellscript"
    }
   },
   "outputs": [
    {
     "name": "stdout",
     "output_type": "stream",
     "text": [
      "Looking in indexes: https://mirrors.tuna.tsinghua.edu.cn/pypi/web/simple\n",
      "Requirement already satisfied: jieba in d:\\python\\310\\lib\\site-packages (0.42.1)\n"
     ]
    },
    {
     "name": "stderr",
     "output_type": "stream",
     "text": [
      "\n",
      "[notice] A new release of pip is available: 23.0.1 -> 24.3.1\n",
      "[notice] To update, run: D:\\Python\\310\\python.exe -m pip install --upgrade pip\n"
     ]
    },
    {
     "name": "stdout",
     "output_type": "stream",
     "text": [
      "Looking in indexes: https://mirrors.tuna.tsinghua.edu.cn/pypi/web/simple\n",
      "Requirement already satisfied: numpy in d:\\python\\310\\lib\\site-packages (2.2.1)\n"
     ]
    },
    {
     "name": "stderr",
     "output_type": "stream",
     "text": [
      "\n",
      "[notice] A new release of pip is available: 23.0.1 -> 24.3.1\n",
      "[notice] To update, run: D:\\Python\\310\\python.exe -m pip install --upgrade pip\n"
     ]
    }
   ],
   "source": [
    "! pip install jieba\n",
    "! pip install numpy"
   ]
  },
  {
   "cell_type": "markdown",
   "metadata": {},
   "source": [
    "### 读取源数据"
   ]
  },
  {
   "cell_type": "code",
   "execution_count": 4,
   "metadata": {},
   "outputs": [],
   "source": [
    "import os\n",
    "\n",
    "dataset_src = []\n",
    "if os.path.exists(\"dataset/三国演义.txt\"):\n",
    "    with open(\"dataset/三国演义.txt\", \"r\", encoding=\"utf-8-sig\") as f:\n",
    "        dataset_src = f.readlines() # 逐行读取\n",
    "else:\n",
    "    print(\"文件不存在\")"
   ]
  },
  {
   "cell_type": "markdown",
   "metadata": {},
   "source": [
    "### 数据预处理"
   ]
  },
  {
   "cell_type": "code",
   "execution_count": 5,
   "metadata": {},
   "outputs": [],
   "source": [
    "dataset = []\n",
    "# 去空行\n",
    "dataset = [line.strip() for line in dataset_src if line != \"\\n\"]\n",
    "# 去除额外信息\n",
    "dataset = dataset[3:]\n",
    "chapter_index = []\n",
    "chapter_content = [[]]\n",
    "chapter_cnt = 0\n",
    "for i in range(len(dataset)):\n",
    "    if dataset[i].startswith(\"正文\"):\n",
    "        chapter_cnt += 1\n",
    "        chapter_index.append(i)  # 获取章节索引\n",
    "        chapter_content.append([])  # 新建章节\n",
    "    else:\n",
    "        chapter_content[chapter_cnt].append(dataset[i])  # 获取内容"
   ]
  },
  {
   "cell_type": "markdown",
   "metadata": {},
   "source": [
    "## Task 1"
   ]
  },
  {
   "cell_type": "markdown",
   "metadata": {},
   "source": [
    "### 获取章回"
   ]
  },
  {
   "cell_type": "code",
   "execution_count": 69,
   "metadata": {},
   "outputs": [
    {
     "name": "stdout",
     "output_type": "stream",
     "text": [
      "宴桃园豪杰三结义 斩黄巾英雄首立功\n",
      "张翼德怒鞭督邮 何国舅谋诛宦竖\n",
      "议温明董卓叱丁原 馈金珠李肃说吕布\n",
      "废汉帝陈留践位 谋董贼孟德献刀\n",
      "发矫诏诸镇应曹公 破关兵三英战吕布\n",
      "焚金阙董卓行凶 匿玉玺孙坚背约\n",
      "袁绍磐河战公孙 孙坚跨江击刘表\n",
      "王司徒巧使连环计 董太师大闹凤仪亭\n",
      "除暴凶吕布助司徒 犯长安李傕听贾诩\n",
      "勤王室马腾举义 报父仇曹操兴师\n",
      "刘皇叔北海救孔融 吕温侯濮阳破曹操\n",
      "陶恭祖三让徐州 曹孟穗大战吕布\n",
      "李傕郭汜大交兵 杨奉董承双救驾\n",
      "曹孟德移驾幸许都 吕奉先乘夜袭徐郡\n",
      "太史慈酣斗小霸王 孙伯符大战严白虎\n",
      "吕奉先射戟辕门 曹孟德败师淯水\n",
      "袁公路大起七军 曹孟德会合三将\n",
      "贾文和料敌决胜 夏侯惇拨矢啖睛\n",
      "下邳城曹操鏖兵 白门楼吕布殒命\n",
      "曹阿瞒许田打围 董国舅内阁受诏\n",
      "曹操煮酒论英雄 关公赚城斩车胄\n",
      "袁曹各起马步三军 关张共擒王刘二将\n",
      "祢正平裸衣骂贼 吉太医下毒遭刑\n",
      "国贼行凶杀贵妃 皇叔败走投袁绍\n",
      "屯土山关公约三事 救白马曹操解重围\n",
      "袁本初败兵折将 关云长挂印封金\n",
      "美髯公千里走单骑 汉寿侯五关斩六将\n",
      "斩蔡阳兄弟释疑 会古城主臣聚义\n",
      "小霸王怒斩于吉 碧眼儿坐领江东\n",
      "战官渡本初败绩 劫乌巢孟德烧粮\n",
      "曹操仓亭破本初 玄德荆州依刘表\n",
      "夺冀州袁尚争锋 决漳河许攸献计\n",
      "曹丕乘乱纳甄氏 郭嘉遗计定辽东\n",
      "蔡夫人隔屏听密语 刘皇叔跃马过檀溪\n",
      "玄德南漳逢隐沧 单福新野遇英主\n",
      "玄德用计袭樊城 元直走马荐诸葛\n",
      "司马徽再荐名士 刘玄德三顾草庐\n",
      "定三分隆中决策 战长江孙氏报仇\n",
      "荆州城公子三求计 博望坡军师初用兵\n",
      "蔡夫人议献荆州 诸葛亮火烧新野\n",
      "刘玄德携民渡江 赵子龙单骑救主\n",
      "张翼德大闹长坂桥 刘豫州败走汉津口\n",
      "诸葛亮舌战群儒 鲁子敬力排众议\n",
      "孔明用智激周瑜 孙权决计破曹操\n",
      "三江口曹操折兵 群英会蒋干中计\n",
      "用奇谋孔明借箭 献密计黄盖受刑\n",
      "阚泽密献诈降书 庞统巧授连环计\n",
      "宴长江曹操赋诗 锁战船北军用武\n",
      "七星坛诸葛祭风 三江口周瑜纵火\n",
      "诸葛亮智算华容 关云长义释曹操\n",
      "曹仁大战东吴兵 孔明一气周公瑾\n",
      "诸葛亮智辞鲁肃 赵子龙计取桂阳\n",
      "关云长义释黄汉升 孙仲谋大战张文远\n",
      "吴国太佛寺看新郎 刘皇叔洞房续佳偶\n",
      "玄德智激孙夫人 孔明二气周公瑾\n",
      "曹操大宴铜雀台 孔明三气周公瑾\n",
      "柴桑口卧龙吊丧 耒阳县凤雏理事\n",
      "马孟起兴兵雪恨 曹阿瞒割须弃袍\n",
      "许诸裸衣斗马超 曹操抹书问韩遂\n",
      "张永年反难杨修 庞士元议取西蜀\n",
      "赵云截江夺阿斗 孙权遗书退老瞒\n",
      "取涪关杨高授首 攻雒城黄魏争功\n",
      "诸葛亮痛哭庞统 张翼德义释严颜\n",
      "孔明定计捉张任 杨阜借兵破马超\n",
      "马超大战葭萌关 刘备自领益州牧\n",
      "关云长单刀赴会 伏皇后为国捐生\n",
      "曹操平定汉中地 张辽威震逍遥津\n",
      "甘宁百骑劫魏营 左慈掷杯戏曹操\n",
      "卜周易管辂知机 讨汉贼五臣死节\n",
      "猛张飞智取瓦口隘 老黄忠计夺天荡山\n",
      "占对山黄忠逸待劳 据汉水赵云寡胜众\n",
      "诸葛亮智取汉中 曹阿瞒兵退斜谷\n",
      "玄德进位汉中王　云长攻拔襄阳郡\n",
      "庞令明抬榇决死战　关云长放水淹七军\n",
      "关云长刮骨疗毒　吕子明白衣渡江\n",
      "徐公明大战沔水　关云长败走麦城\n",
      "玉泉山关公显圣　洛阳城曹操感神\n",
      "治风疾神医身死　传遗命奸雄数终\n",
      "兄逼弟曹植赋诗　侄陷叔刘封伏法\n",
      "曹丕废帝篡炎刘　汉王正位续大统\n",
      "急兄仇张飞遇害　　雪弟恨先主兴兵\n",
      "孙权降魏受九锡　先主征吴赏六军\n",
      "战猇亭先主得仇人　守江口书生拜大将\n",
      "陆逊营烧七百里　孔明巧布八阵图\n",
      "刘先主遗诏托孤儿　诸葛亮安居平五路\n",
      "难张温秦宓逞天辩　破曹丕徐盛用火攻\n",
      "征南寇丞相大兴师　抗天兵蛮王初受执\n",
      "渡泸水再缚番王　识诈降三擒孟获\n",
      "武乡侯四番用计　南蛮王五次遭擒\n",
      "驱巨善六破蛮兵　烧藤甲七擒孟获\n",
      "祭泸水汉相班师　伐中原武侯上表\n",
      "赵子龙力斩五将　诸葛亮智取三城\n",
      "姜伯约归降孔明　武乡侯骂死王朝\n",
      "诸葛亮乘雪破羌兵　司马懿克日擒孟达\n",
      "马谡拒谏失街亭　武侯弹琴退仲达\n",
      "孔明挥泪斩马谡　周鲂断发赚曹休\n",
      "讨魏国武侯再上表　破曹兵姜维诈献书\n",
      "追汉军王双受诛　袭陈仓武侯取胜\n",
      "诸葛亮大破魏兵　司马懿入寇西蜀\n",
      "汉兵劫寨破曹真　武侯斗阵辱仲达\n",
      "出陇上诸葛妆神　奔剑阁张郃中计\n",
      "司马懿占北原渭桥　诸葛亮造木牛流马\n",
      "上方谷司马受困　五丈原诸葛禳星\n",
      "陨大星汉丞相归天　见木像魏都督丧胆\n",
      "武侯预伏锦囊计　魏主拆取承露盘\n",
      "公孙渊兵败死襄平　司马懿诈病赚曹爽\n",
      "魏主政归司马氏　姜维兵败牛头山\n",
      "丁奉雪中奋短兵　孙峻席间施密计\n",
      "困司马汉将奇谋　废曹芳魏家果报\n",
      "文鸯单骑退雄兵　姜维背水破大敌\n",
      "邓士载智败姜伯约　诸葛诞义讨司马昭\n",
      "救寿春于诠死节　取长城伯约鏖兵\n",
      "丁奉定计斩孙綝　姜维斗阵破邓艾\n",
      "曹髦驱车死南阙　姜维弃粮胜魏兵\n",
      "诏班师后主信谗　托屯田姜维避祸\n",
      "钟会分兵汉中道　武侯显圣定军山\n",
      "邓士载偷度阴平　诸葛瞻战死绵竹\n",
      "哭祖庙一王死孝　入西川二士争功\n",
      "假投降巧计成虚话　再受禅依样画葫芦\n",
      "荐杜预老将献新谋　降孙皓三分归一统\n",
      "共120章\n"
     ]
    }
   ],
   "source": [
    "import csv\n",
    "chapters = []\n",
    "csvfile = open(\n",
    "    \"export/chapters.csv\", \"w\", newline=\"\", encoding=\"utf-8-sig\"\n",
    ")  # utf-8-sig 用于解决中文乱码问题\n",
    "writer = csv.writer(csvfile)\n",
    "for idx in chapter_index:\n",
    "    line = dataset[idx]\n",
    "    chapter_name = line[line.find(\"回\") + 1 :].strip()\n",
    "    chapters.append(chapter_name)\n",
    "    writer.writerow([len(chapters),chapter_name])\n",
    "    print(chapter_name)\n",
    "csvfile.close()\n",
    "print(\"共{}章\".format(chapter_cnt))"
   ]
  },
  {
   "cell_type": "markdown",
   "metadata": {},
   "source": [
    "# Task 2"
   ]
  },
  {
   "cell_type": "markdown",
   "metadata": {},
   "source": [
    "### 词法分析"
   ]
  },
  {
   "cell_type": "code",
   "execution_count": 12,
   "metadata": {},
   "outputs": [
    {
     "ename": "KeyboardInterrupt",
     "evalue": "",
     "output_type": "error",
     "traceback": [
      "\u001b[1;31m---------------------------------------------------------------------------\u001b[0m",
      "\u001b[1;31mKeyboardInterrupt\u001b[0m                         Traceback (most recent call last)",
      "Cell \u001b[1;32mIn[12], line 5\u001b[0m\n\u001b[0;32m      3\u001b[0m seglist \u001b[38;5;241m=\u001b[39m []\n\u001b[0;32m      4\u001b[0m \u001b[38;5;28;01mfor\u001b[39;00m i \u001b[38;5;129;01min\u001b[39;00m dataset:\n\u001b[1;32m----> 5\u001b[0m     seglist\u001b[38;5;241m.\u001b[39mappend(pseg\u001b[38;5;241m.\u001b[39mlcut(i))\n",
      "File \u001b[1;32md:\\Workspace\\r3k_analysis\\.conda\\Lib\\site-packages\\jieba\\posseg\\__init__.py:310\u001b[0m, in \u001b[0;36mlcut\u001b[1;34m(sentence, HMM, use_paddle)\u001b[0m\n\u001b[0;32m    308\u001b[0m \u001b[38;5;28;01mif\u001b[39;00m use_paddle:\n\u001b[0;32m    309\u001b[0m     \u001b[38;5;28;01mreturn\u001b[39;00m \u001b[38;5;28mlist\u001b[39m(cut(sentence, use_paddle\u001b[38;5;241m=\u001b[39m\u001b[38;5;28;01mTrue\u001b[39;00m))\n\u001b[1;32m--> 310\u001b[0m \u001b[38;5;28;01mreturn\u001b[39;00m \u001b[38;5;28mlist\u001b[39m(cut(sentence, HMM))\n",
      "File \u001b[1;32md:\\Workspace\\r3k_analysis\\.conda\\Lib\\site-packages\\jieba\\posseg\\__init__.py:294\u001b[0m, in \u001b[0;36mcut\u001b[1;34m(sentence, HMM, use_paddle)\u001b[0m\n\u001b[0;32m    292\u001b[0m \u001b[38;5;28;01mglobal\u001b[39;00m dt\n\u001b[0;32m    293\u001b[0m \u001b[38;5;28;01mif\u001b[39;00m jieba\u001b[38;5;241m.\u001b[39mpool \u001b[38;5;129;01mis\u001b[39;00m \u001b[38;5;28;01mNone\u001b[39;00m:\n\u001b[1;32m--> 294\u001b[0m     \u001b[38;5;28;01mfor\u001b[39;00m w \u001b[38;5;129;01min\u001b[39;00m dt\u001b[38;5;241m.\u001b[39mcut(sentence, HMM\u001b[38;5;241m=\u001b[39mHMM):\n\u001b[0;32m    295\u001b[0m         \u001b[38;5;28;01myield\u001b[39;00m w\n\u001b[0;32m    296\u001b[0m \u001b[38;5;28;01melse\u001b[39;00m:\n",
      "File \u001b[1;32md:\\Workspace\\r3k_analysis\\.conda\\Lib\\site-packages\\jieba\\posseg\\__init__.py:249\u001b[0m, in \u001b[0;36mPOSTokenizer.cut\u001b[1;34m(self, sentence, HMM)\u001b[0m\n\u001b[0;32m    248\u001b[0m \u001b[38;5;28;01mdef\u001b[39;00m \u001b[38;5;21mcut\u001b[39m(\u001b[38;5;28mself\u001b[39m, sentence, HMM\u001b[38;5;241m=\u001b[39m\u001b[38;5;28;01mTrue\u001b[39;00m):\n\u001b[1;32m--> 249\u001b[0m     \u001b[38;5;28;01mfor\u001b[39;00m w \u001b[38;5;129;01min\u001b[39;00m \u001b[38;5;28mself\u001b[39m\u001b[38;5;241m.\u001b[39m__cut_internal(sentence, HMM\u001b[38;5;241m=\u001b[39mHMM):\n\u001b[0;32m    250\u001b[0m         \u001b[38;5;28;01myield\u001b[39;00m w\n",
      "File \u001b[1;32md:\\Workspace\\r3k_analysis\\.conda\\Lib\\site-packages\\jieba\\posseg\\__init__.py:226\u001b[0m, in \u001b[0;36mPOSTokenizer.__cut_internal\u001b[1;34m(self, sentence, HMM)\u001b[0m\n\u001b[0;32m    224\u001b[0m \u001b[38;5;28;01mfor\u001b[39;00m blk \u001b[38;5;129;01min\u001b[39;00m blocks:\n\u001b[0;32m    225\u001b[0m     \u001b[38;5;28;01mif\u001b[39;00m re_han_internal\u001b[38;5;241m.\u001b[39mmatch(blk):\n\u001b[1;32m--> 226\u001b[0m         \u001b[38;5;28;01mfor\u001b[39;00m word \u001b[38;5;129;01min\u001b[39;00m cut_blk(blk):\n\u001b[0;32m    227\u001b[0m             \u001b[38;5;28;01myield\u001b[39;00m word\n\u001b[0;32m    228\u001b[0m     \u001b[38;5;28;01melse\u001b[39;00m:\n",
      "File \u001b[1;32md:\\Workspace\\r3k_analysis\\.conda\\Lib\\site-packages\\jieba\\posseg\\__init__.py:179\u001b[0m, in \u001b[0;36mPOSTokenizer.__cut_DAG\u001b[1;34m(self, sentence)\u001b[0m\n\u001b[0;32m    176\u001b[0m DAG \u001b[38;5;241m=\u001b[39m \u001b[38;5;28mself\u001b[39m\u001b[38;5;241m.\u001b[39mtokenizer\u001b[38;5;241m.\u001b[39mget_DAG(sentence)\n\u001b[0;32m    177\u001b[0m route \u001b[38;5;241m=\u001b[39m {}\n\u001b[1;32m--> 179\u001b[0m \u001b[38;5;28mself\u001b[39m\u001b[38;5;241m.\u001b[39mtokenizer\u001b[38;5;241m.\u001b[39mcalc(sentence, DAG, route)\n\u001b[0;32m    181\u001b[0m x \u001b[38;5;241m=\u001b[39m \u001b[38;5;241m0\u001b[39m\n\u001b[0;32m    182\u001b[0m buf \u001b[38;5;241m=\u001b[39m \u001b[38;5;124m'\u001b[39m\u001b[38;5;124m'\u001b[39m\n",
      "File \u001b[1;32md:\\Workspace\\r3k_analysis\\.conda\\Lib\\site-packages\\jieba\\__init__.py:177\u001b[0m, in \u001b[0;36mTokenizer.calc\u001b[1;34m(self, sentence, DAG, route)\u001b[0m\n\u001b[0;32m    175\u001b[0m logtotal \u001b[38;5;241m=\u001b[39m log(\u001b[38;5;28mself\u001b[39m\u001b[38;5;241m.\u001b[39mtotal)\n\u001b[0;32m    176\u001b[0m \u001b[38;5;28;01mfor\u001b[39;00m idx \u001b[38;5;129;01min\u001b[39;00m xrange(N \u001b[38;5;241m-\u001b[39m \u001b[38;5;241m1\u001b[39m, \u001b[38;5;241m-\u001b[39m\u001b[38;5;241m1\u001b[39m, \u001b[38;5;241m-\u001b[39m\u001b[38;5;241m1\u001b[39m):\n\u001b[1;32m--> 177\u001b[0m     route[idx] \u001b[38;5;241m=\u001b[39m \u001b[38;5;28mmax\u001b[39m((log(\u001b[38;5;28mself\u001b[39m\u001b[38;5;241m.\u001b[39mFREQ\u001b[38;5;241m.\u001b[39mget(sentence[idx:x \u001b[38;5;241m+\u001b[39m \u001b[38;5;241m1\u001b[39m]) \u001b[38;5;129;01mor\u001b[39;00m \u001b[38;5;241m1\u001b[39m) \u001b[38;5;241m-\u001b[39m\n\u001b[0;32m    178\u001b[0m                       logtotal \u001b[38;5;241m+\u001b[39m route[x \u001b[38;5;241m+\u001b[39m \u001b[38;5;241m1\u001b[39m][\u001b[38;5;241m0\u001b[39m], x) \u001b[38;5;28;01mfor\u001b[39;00m x \u001b[38;5;129;01min\u001b[39;00m DAG[idx])\n",
      "File \u001b[1;32md:\\Workspace\\r3k_analysis\\.conda\\Lib\\site-packages\\jieba\\__init__.py:177\u001b[0m, in \u001b[0;36m<genexpr>\u001b[1;34m(.0)\u001b[0m\n\u001b[0;32m    175\u001b[0m logtotal \u001b[38;5;241m=\u001b[39m log(\u001b[38;5;28mself\u001b[39m\u001b[38;5;241m.\u001b[39mtotal)\n\u001b[0;32m    176\u001b[0m \u001b[38;5;28;01mfor\u001b[39;00m idx \u001b[38;5;129;01min\u001b[39;00m xrange(N \u001b[38;5;241m-\u001b[39m \u001b[38;5;241m1\u001b[39m, \u001b[38;5;241m-\u001b[39m\u001b[38;5;241m1\u001b[39m, \u001b[38;5;241m-\u001b[39m\u001b[38;5;241m1\u001b[39m):\n\u001b[1;32m--> 177\u001b[0m     route[idx] \u001b[38;5;241m=\u001b[39m \u001b[38;5;28mmax\u001b[39m((log(\u001b[38;5;28mself\u001b[39m\u001b[38;5;241m.\u001b[39mFREQ\u001b[38;5;241m.\u001b[39mget(sentence[idx:x \u001b[38;5;241m+\u001b[39m \u001b[38;5;241m1\u001b[39m]) \u001b[38;5;129;01mor\u001b[39;00m \u001b[38;5;241m1\u001b[39m) \u001b[38;5;241m-\u001b[39m\n\u001b[0;32m    178\u001b[0m                       logtotal \u001b[38;5;241m+\u001b[39m route[x \u001b[38;5;241m+\u001b[39m \u001b[38;5;241m1\u001b[39m][\u001b[38;5;241m0\u001b[39m], x) \u001b[38;5;28;01mfor\u001b[39;00m x \u001b[38;5;129;01min\u001b[39;00m DAG[idx])\n",
      "\u001b[1;31mKeyboardInterrupt\u001b[0m: "
     ]
    }
   ],
   "source": [
    "import jieba.posseg as pseg\n",
    "\n",
    "seglist = []\n",
    "for i in dataset:\n",
    "    seglist.append(pseg.lcut(i))"
   ]
  }
 ],
 "metadata": {
  "kernelspec": {
   "display_name": ".conda",
   "language": "python",
   "name": "python3"
  },
  "language_info": {
   "codemirror_mode": {
    "name": "ipython",
    "version": 3
   },
   "file_extension": ".py",
   "mimetype": "text/x-python",
   "name": "python",
   "nbconvert_exporter": "python",
   "pygments_lexer": "ipython3",
   "version": "3.11.11"
  }
 },
 "nbformat": 4,
 "nbformat_minor": 2
}
