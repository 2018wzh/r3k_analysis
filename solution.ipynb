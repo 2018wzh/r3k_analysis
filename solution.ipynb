{
 "cells": [
  {
   "cell_type": "markdown",
   "metadata": {},
   "source": [
    "# 三国演义 分析"
   ]
  },
  {
   "cell_type": "markdown",
   "metadata": {},
   "source": [
    "## 准备工作"
   ]
  },
  {
   "cell_type": "markdown",
   "metadata": {},
   "source": [
    "### 安装依赖\n",
    "- Python=3.11\n",
    "- HanLP\n",
    "- Ollama"
   ]
  },
  {
   "cell_type": "code",
   "execution_count": 4,
   "metadata": {},
   "outputs": [
    {
     "name": "stdout",
     "output_type": "stream",
     "text": [
      "Looking in indexes: https://mirrors.tuna.tsinghua.edu.cn/pypi/web/simple\n",
      "Requirement already satisfied: hanlp in ./.conda/lib/python3.11/site-packages (from -r requirements.txt (line 1)) (2.1.0)\n",
      "Requirement already satisfied: iprogress in ./.conda/lib/python3.11/site-packages (from -r requirements.txt (line 2)) (0.4)\n",
      "Requirement already satisfied: ipywidgets in ./.conda/lib/python3.11/site-packages (from -r requirements.txt (line 3)) (8.1.5)\n",
      "Requirement already satisfied: ollama in ./.conda/lib/python3.11/site-packages (from -r requirements.txt (line 4)) (0.4.5)\n",
      "Requirement already satisfied: hanlp-common>=0.0.22 in ./.conda/lib/python3.11/site-packages (from hanlp->-r requirements.txt (line 1)) (0.0.22)\n",
      "Requirement already satisfied: hanlp-downloader in ./.conda/lib/python3.11/site-packages (from hanlp->-r requirements.txt (line 1)) (0.0.25)\n",
      "Requirement already satisfied: hanlp-trie>=0.0.4 in ./.conda/lib/python3.11/site-packages (from hanlp->-r requirements.txt (line 1)) (0.0.5)\n",
      "Requirement already satisfied: pynvml in ./.conda/lib/python3.11/site-packages (from hanlp->-r requirements.txt (line 1)) (12.0.0)\n",
      "Requirement already satisfied: sentencepiece>=0.1.91 in ./.conda/lib/python3.11/site-packages (from hanlp->-r requirements.txt (line 1)) (0.2.0)\n",
      "Requirement already satisfied: termcolor in ./.conda/lib/python3.11/site-packages (from hanlp->-r requirements.txt (line 1)) (2.5.0)\n",
      "Requirement already satisfied: toposort==1.5 in ./.conda/lib/python3.11/site-packages (from hanlp->-r requirements.txt (line 1)) (1.5)\n",
      "Requirement already satisfied: torch>=1.6.0 in ./.conda/lib/python3.11/site-packages (from hanlp->-r requirements.txt (line 1)) (2.1.2)\n",
      "Requirement already satisfied: transformers>=4.1.1 in ./.conda/lib/python3.11/site-packages (from hanlp->-r requirements.txt (line 1)) (4.39.0)\n",
      "Requirement already satisfied: six in ./.conda/lib/python3.11/site-packages (from iprogress->-r requirements.txt (line 2)) (1.16.0)\n",
      "Requirement already satisfied: comm>=0.1.3 in ./.conda/lib/python3.11/site-packages (from ipywidgets->-r requirements.txt (line 3)) (0.2.1)\n",
      "Requirement already satisfied: ipython>=6.1.0 in ./.conda/lib/python3.11/site-packages (from ipywidgets->-r requirements.txt (line 3)) (8.30.0)\n",
      "Requirement already satisfied: traitlets>=4.3.1 in ./.conda/lib/python3.11/site-packages (from ipywidgets->-r requirements.txt (line 3)) (5.14.3)\n",
      "Requirement already satisfied: widgetsnbextension~=4.0.12 in ./.conda/lib/python3.11/site-packages (from ipywidgets->-r requirements.txt (line 3)) (4.0.13)\n",
      "Requirement already satisfied: jupyterlab-widgets~=3.0.12 in ./.conda/lib/python3.11/site-packages (from ipywidgets->-r requirements.txt (line 3)) (3.0.13)\n",
      "Requirement already satisfied: httpx<0.28.0,>=0.27.0 in ./.conda/lib/python3.11/site-packages (from ollama->-r requirements.txt (line 4)) (0.27.2)\n",
      "Requirement already satisfied: pydantic<3.0.0,>=2.9.0 in ./.conda/lib/python3.11/site-packages (from ollama->-r requirements.txt (line 4)) (2.10.4)\n",
      "Requirement already satisfied: phrasetree>=0.0.9 in ./.conda/lib/python3.11/site-packages (from hanlp-common>=0.0.22->hanlp->-r requirements.txt (line 1)) (0.0.9)\n",
      "Requirement already satisfied: anyio in ./.conda/lib/python3.11/site-packages (from httpx<0.28.0,>=0.27.0->ollama->-r requirements.txt (line 4)) (4.7.0)\n",
      "Requirement already satisfied: certifi in ./.conda/lib/python3.11/site-packages (from httpx<0.28.0,>=0.27.0->ollama->-r requirements.txt (line 4)) (2024.12.14)\n",
      "Requirement already satisfied: httpcore==1.* in ./.conda/lib/python3.11/site-packages (from httpx<0.28.0,>=0.27.0->ollama->-r requirements.txt (line 4)) (1.0.7)\n",
      "Requirement already satisfied: idna in ./.conda/lib/python3.11/site-packages (from httpx<0.28.0,>=0.27.0->ollama->-r requirements.txt (line 4)) (3.10)\n",
      "Requirement already satisfied: sniffio in ./.conda/lib/python3.11/site-packages (from httpx<0.28.0,>=0.27.0->ollama->-r requirements.txt (line 4)) (1.3.1)\n",
      "Requirement already satisfied: h11<0.15,>=0.13 in ./.conda/lib/python3.11/site-packages (from httpcore==1.*->httpx<0.28.0,>=0.27.0->ollama->-r requirements.txt (line 4)) (0.14.0)\n",
      "Requirement already satisfied: decorator in ./.conda/lib/python3.11/site-packages (from ipython>=6.1.0->ipywidgets->-r requirements.txt (line 3)) (5.1.1)\n",
      "Requirement already satisfied: jedi>=0.16 in ./.conda/lib/python3.11/site-packages (from ipython>=6.1.0->ipywidgets->-r requirements.txt (line 3)) (0.19.2)\n",
      "Requirement already satisfied: matplotlib-inline in ./.conda/lib/python3.11/site-packages (from ipython>=6.1.0->ipywidgets->-r requirements.txt (line 3)) (0.1.6)\n",
      "Requirement already satisfied: prompt-toolkit<3.1.0,>=3.0.41 in ./.conda/lib/python3.11/site-packages (from ipython>=6.1.0->ipywidgets->-r requirements.txt (line 3)) (3.0.43)\n",
      "Requirement already satisfied: pygments>=2.4.0 in ./.conda/lib/python3.11/site-packages (from ipython>=6.1.0->ipywidgets->-r requirements.txt (line 3)) (2.15.1)\n",
      "Requirement already satisfied: stack-data in ./.conda/lib/python3.11/site-packages (from ipython>=6.1.0->ipywidgets->-r requirements.txt (line 3)) (0.2.0)\n",
      "Requirement already satisfied: typing-extensions>=4.6 in ./.conda/lib/python3.11/site-packages (from ipython>=6.1.0->ipywidgets->-r requirements.txt (line 3)) (4.12.2)\n",
      "Requirement already satisfied: pexpect>4.3 in ./.conda/lib/python3.11/site-packages (from ipython>=6.1.0->ipywidgets->-r requirements.txt (line 3)) (4.8.0)\n",
      "Requirement already satisfied: annotated-types>=0.6.0 in ./.conda/lib/python3.11/site-packages (from pydantic<3.0.0,>=2.9.0->ollama->-r requirements.txt (line 4)) (0.7.0)\n",
      "Requirement already satisfied: pydantic-core==2.27.2 in ./.conda/lib/python3.11/site-packages (from pydantic<3.0.0,>=2.9.0->ollama->-r requirements.txt (line 4)) (2.27.2)\n",
      "Requirement already satisfied: filelock in ./.conda/lib/python3.11/site-packages (from torch>=1.6.0->hanlp->-r requirements.txt (line 1)) (3.16.1)\n",
      "Requirement already satisfied: sympy in ./.conda/lib/python3.11/site-packages (from torch>=1.6.0->hanlp->-r requirements.txt (line 1)) (1.13.3)\n",
      "Requirement already satisfied: networkx in ./.conda/lib/python3.11/site-packages (from torch>=1.6.0->hanlp->-r requirements.txt (line 1)) (3.4.2)\n",
      "Requirement already satisfied: jinja2 in ./.conda/lib/python3.11/site-packages (from torch>=1.6.0->hanlp->-r requirements.txt (line 1)) (3.1.5)\n",
      "Requirement already satisfied: fsspec in ./.conda/lib/python3.11/site-packages (from torch>=1.6.0->hanlp->-r requirements.txt (line 1)) (2024.9.0)\n",
      "Requirement already satisfied: nvidia-cuda-nvrtc-cu12==12.1.105 in ./.conda/lib/python3.11/site-packages (from torch>=1.6.0->hanlp->-r requirements.txt (line 1)) (12.1.105)\n",
      "Requirement already satisfied: nvidia-cuda-runtime-cu12==12.1.105 in ./.conda/lib/python3.11/site-packages (from torch>=1.6.0->hanlp->-r requirements.txt (line 1)) (12.1.105)\n",
      "Requirement already satisfied: nvidia-cuda-cupti-cu12==12.1.105 in ./.conda/lib/python3.11/site-packages (from torch>=1.6.0->hanlp->-r requirements.txt (line 1)) (12.1.105)\n",
      "Requirement already satisfied: nvidia-cudnn-cu12==8.9.2.26 in ./.conda/lib/python3.11/site-packages (from torch>=1.6.0->hanlp->-r requirements.txt (line 1)) (8.9.2.26)\n",
      "Requirement already satisfied: nvidia-cublas-cu12==12.1.3.1 in ./.conda/lib/python3.11/site-packages (from torch>=1.6.0->hanlp->-r requirements.txt (line 1)) (12.1.3.1)\n",
      "Requirement already satisfied: nvidia-cufft-cu12==11.0.2.54 in ./.conda/lib/python3.11/site-packages (from torch>=1.6.0->hanlp->-r requirements.txt (line 1)) (11.0.2.54)\n",
      "Requirement already satisfied: nvidia-curand-cu12==10.3.2.106 in ./.conda/lib/python3.11/site-packages (from torch>=1.6.0->hanlp->-r requirements.txt (line 1)) (10.3.2.106)\n",
      "Requirement already satisfied: nvidia-cusolver-cu12==11.4.5.107 in ./.conda/lib/python3.11/site-packages (from torch>=1.6.0->hanlp->-r requirements.txt (line 1)) (11.4.5.107)\n",
      "Requirement already satisfied: nvidia-cusparse-cu12==12.1.0.106 in ./.conda/lib/python3.11/site-packages (from torch>=1.6.0->hanlp->-r requirements.txt (line 1)) (12.1.0.106)\n",
      "Requirement already satisfied: nvidia-nccl-cu12==2.18.1 in ./.conda/lib/python3.11/site-packages (from torch>=1.6.0->hanlp->-r requirements.txt (line 1)) (2.18.1)\n",
      "Requirement already satisfied: nvidia-nvtx-cu12==12.1.105 in ./.conda/lib/python3.11/site-packages (from torch>=1.6.0->hanlp->-r requirements.txt (line 1)) (12.1.105)\n",
      "Requirement already satisfied: triton==2.1.0 in ./.conda/lib/python3.11/site-packages (from torch>=1.6.0->hanlp->-r requirements.txt (line 1)) (2.1.0)\n",
      "Requirement already satisfied: nvidia-nvjitlink-cu12 in ./.conda/lib/python3.11/site-packages (from nvidia-cusolver-cu12==11.4.5.107->torch>=1.6.0->hanlp->-r requirements.txt (line 1)) (12.6.85)\n",
      "Requirement already satisfied: huggingface-hub<1.0,>=0.19.3 in ./.conda/lib/python3.11/site-packages (from transformers>=4.1.1->hanlp->-r requirements.txt (line 1)) (0.27.0)\n",
      "Requirement already satisfied: numpy>=1.17 in ./.conda/lib/python3.11/site-packages (from transformers>=4.1.1->hanlp->-r requirements.txt (line 1)) (1.26.4)\n",
      "Requirement already satisfied: packaging>=20.0 in ./.conda/lib/python3.11/site-packages (from transformers>=4.1.1->hanlp->-r requirements.txt (line 1)) (24.2)\n",
      "Requirement already satisfied: pyyaml>=5.1 in ./.conda/lib/python3.11/site-packages (from transformers>=4.1.1->hanlp->-r requirements.txt (line 1)) (6.0.2)\n",
      "Requirement already satisfied: regex!=2019.12.17 in ./.conda/lib/python3.11/site-packages (from transformers>=4.1.1->hanlp->-r requirements.txt (line 1)) (2024.11.6)\n",
      "Requirement already satisfied: requests in ./.conda/lib/python3.11/site-packages (from transformers>=4.1.1->hanlp->-r requirements.txt (line 1)) (2.32.3)\n",
      "Requirement already satisfied: tokenizers<0.19,>=0.14 in ./.conda/lib/python3.11/site-packages (from transformers>=4.1.1->hanlp->-r requirements.txt (line 1)) (0.15.2)\n",
      "Requirement already satisfied: safetensors>=0.4.1 in ./.conda/lib/python3.11/site-packages (from transformers>=4.1.1->hanlp->-r requirements.txt (line 1)) (0.4.5)\n",
      "Requirement already satisfied: tqdm>=4.27 in ./.conda/lib/python3.11/site-packages (from transformers>=4.1.1->hanlp->-r requirements.txt (line 1)) (4.67.1)\n",
      "Requirement already satisfied: nvidia-ml-py<13.0.0a0,>=12.0.0 in ./.conda/lib/python3.11/site-packages (from pynvml->hanlp->-r requirements.txt (line 1)) (12.560.30)\n",
      "Requirement already satisfied: parso<0.9.0,>=0.8.4 in ./.conda/lib/python3.11/site-packages (from jedi>=0.16->ipython>=6.1.0->ipywidgets->-r requirements.txt (line 3)) (0.8.4)\n",
      "Requirement already satisfied: ptyprocess>=0.5 in ./.conda/lib/python3.11/site-packages (from pexpect>4.3->ipython>=6.1.0->ipywidgets->-r requirements.txt (line 3)) (0.7.0)\n",
      "Requirement already satisfied: wcwidth in ./.conda/lib/python3.11/site-packages (from prompt-toolkit<3.1.0,>=3.0.41->ipython>=6.1.0->ipywidgets->-r requirements.txt (line 3)) (0.2.5)\n",
      "Requirement already satisfied: MarkupSafe>=2.0 in ./.conda/lib/python3.11/site-packages (from jinja2->torch>=1.6.0->hanlp->-r requirements.txt (line 1)) (2.1.5)\n",
      "Requirement already satisfied: charset-normalizer<4,>=2 in ./.conda/lib/python3.11/site-packages (from requests->transformers>=4.1.1->hanlp->-r requirements.txt (line 1)) (3.4.1)\n",
      "Requirement already satisfied: urllib3<3,>=1.21.1 in ./.conda/lib/python3.11/site-packages (from requests->transformers>=4.1.1->hanlp->-r requirements.txt (line 1)) (2.3.0)\n",
      "Requirement already satisfied: executing in ./.conda/lib/python3.11/site-packages (from stack-data->ipython>=6.1.0->ipywidgets->-r requirements.txt (line 3)) (0.8.3)\n",
      "Requirement already satisfied: asttokens in ./.conda/lib/python3.11/site-packages (from stack-data->ipython>=6.1.0->ipywidgets->-r requirements.txt (line 3)) (2.0.5)\n",
      "Requirement already satisfied: pure-eval in ./.conda/lib/python3.11/site-packages (from stack-data->ipython>=6.1.0->ipywidgets->-r requirements.txt (line 3)) (0.2.2)\n",
      "Requirement already satisfied: mpmath<1.4,>=1.1.0 in ./.conda/lib/python3.11/site-packages (from sympy->torch>=1.6.0->hanlp->-r requirements.txt (line 1)) (1.3.0)\n",
      "Note: you may need to restart the kernel to use updated packages.\n"
     ]
    }
   ],
   "source": [
    "%pip install -r requirements.txt"
   ]
  },
  {
   "cell_type": "markdown",
   "metadata": {},
   "source": [
    "### 读取源数据"
   ]
  },
  {
   "cell_type": "code",
   "execution_count": 1,
   "metadata": {},
   "outputs": [],
   "source": [
    "import os\n",
    "\n",
    "dataset_src = []\n",
    "if os.path.exists(\"dataset/三国演义.txt\"):\n",
    "    with open(\"dataset/三国演义.txt\", \"r\", encoding=\"utf-8-sig\") as f:\n",
    "        dataset_src = f.readlines()  # 逐行读取\n",
    "else:\n",
    "    print(\"文件不存在\")"
   ]
  },
  {
   "cell_type": "markdown",
   "metadata": {},
   "source": [
    "### 数据预处理"
   ]
  },
  {
   "cell_type": "code",
   "execution_count": 2,
   "metadata": {},
   "outputs": [],
   "source": [
    "import json\n",
    "import re\n",
    "\n",
    "dataset = []\n",
    "# 去空行\n",
    "dataset = [line.strip() for line in dataset_src if line != \"\\n\"]\n",
    "# 去除额外信息\n",
    "dataset = dataset[3:-2]\n",
    "chapter_index = []\n",
    "chapter_content = [[]]\n",
    "chapter_cnt = 0\n",
    "chinese_punctuation = r\"[,.!;:，。！：；—　。，、》《？”“]\"  # 中文标点符号\n",
    "title_pattern = r\"正文 第.*回\"  # 章节标题\n",
    "for i in range(len(dataset)):\n",
    "    if re.match(title_pattern, dataset[i]):\n",
    "        chapter_cnt += 1\n",
    "        chapter_index.append(i)  # 获取章节索引\n",
    "        chapter_content.append([])  # 新建章节\n",
    "    else:\n",
    "        # dataset[i] = re.sub(chinese_punctuation, '', dataset[i])  # 去除标点符号\n",
    "        chapter_content[chapter_cnt].append(dataset[i])  # 获取内容\n",
    "        # 去除标点符号\n",
    "\n",
    "# 保存为json\n",
    "data = []\n",
    "for i in range(len(chapter_index)):\n",
    "    line = dataset[chapter_index[i]]\n",
    "    data.append(\n",
    "        {\n",
    "            \"chapter\": line[line.find(\"回\") + 1 :].strip(),\n",
    "            \"content\": chapter_content[i + 1],\n",
    "        }\n",
    "    )\n",
    "with open(\"dataset/dataset.json\", \"w\", encoding=\"utf-8-sig\") as f:\n",
    "    json.dump(data, f, ensure_ascii=False, indent=4)"
   ]
  },
  {
   "cell_type": "markdown",
   "metadata": {},
   "source": [
    "# Task 0"
   ]
  },
  {
   "cell_type": "markdown",
   "metadata": {},
   "source": [
    "### 导入预处理数据集"
   ]
  },
  {
   "cell_type": "code",
   "execution_count": 24,
   "metadata": {},
   "outputs": [
    {
     "name": "stdout",
     "output_type": "stream",
     "text": [
      "数据集大小： 120\n"
     ]
    }
   ],
   "source": [
    "import json\n",
    "\n",
    "data = []\n",
    "with open(\"dataset/dataset.json\", \"r\", encoding=\"utf-8-sig\") as f:\n",
    "    data = json.load(f)\n",
    "print(\"数据集大小：\", len(data))"
   ]
  },
  {
   "cell_type": "markdown",
   "metadata": {},
   "source": [
    "# Task 1"
   ]
  },
  {
   "cell_type": "markdown",
   "metadata": {},
   "source": [
    "### 获取章回"
   ]
  },
  {
   "cell_type": "code",
   "execution_count": 5,
   "metadata": {},
   "outputs": [
    {
     "name": "stderr",
     "output_type": "stream",
     "text": [
      "100%|██████████| 120/120 [00:00<00:00, 973532.84it/s]\n"
     ]
    }
   ],
   "source": [
    "import tqdm\n",
    "\n",
    "chapters = []\n",
    "for i in tqdm.tqdm(range(len(data))):\n",
    "    chapters.append(data[i][\"chapter\"])"
   ]
  },
  {
   "cell_type": "markdown",
   "metadata": {},
   "source": [
    "### 保存"
   ]
  },
  {
   "cell_type": "code",
   "execution_count": 6,
   "metadata": {},
   "outputs": [],
   "source": [
    "import csv\n",
    "\n",
    "with open(\"export/chapters.csv\", \"w\", newline=\"\", encoding=\"utf-8-sig\") as csvfile:\n",
    "    writer = csv.writer(csvfile)\n",
    "    for i in range(len(chapters)):\n",
    "        writer.writerow([chapters[i]])"
   ]
  },
  {
   "cell_type": "markdown",
   "metadata": {},
   "source": [
    "### 输出"
   ]
  },
  {
   "cell_type": "code",
   "execution_count": 7,
   "metadata": {},
   "outputs": [
    {
     "name": "stdout",
     "output_type": "stream",
     "text": [
      "共120章\n",
      "第1章：宴桃园豪杰三结义 斩黄巾英雄首立功\n",
      "第2章：张翼德怒鞭督邮 何国舅谋诛宦竖\n",
      "第3章：议温明董卓叱丁原 馈金珠李肃说吕布\n",
      "第4章：废汉帝陈留践位 谋董贼孟德献刀\n",
      "第5章：发矫诏诸镇应曹公 破关兵三英战吕布\n",
      "第6章：焚金阙董卓行凶 匿玉玺孙坚背约\n",
      "第7章：袁绍磐河战公孙 孙坚跨江击刘表\n",
      "第8章：王司徒巧使连环计 董太师大闹凤仪亭\n",
      "第9章：除暴凶吕布助司徒 犯长安李傕听贾诩\n",
      "第10章：勤王室马腾举义 报父仇曹操兴师\n",
      "第11章：刘皇叔北海救孔融 吕温侯濮阳破曹操\n",
      "第12章：陶恭祖三让徐州 曹孟穗大战吕布\n",
      "第13章：李傕郭汜大交兵 杨奉董承双救驾\n",
      "第14章：曹孟德移驾幸许都 吕奉先乘夜袭徐郡\n",
      "第15章：太史慈酣斗小霸王 孙伯符大战严白虎\n",
      "第16章：吕奉先射戟辕门 曹孟德败师淯水\n",
      "第17章：袁公路大起七军 曹孟德会合三将\n",
      "第18章：贾文和料敌决胜 夏侯惇拨矢啖睛\n",
      "第19章：下邳城曹操鏖兵 白门楼吕布殒命\n",
      "第20章：曹阿瞒许田打围 董国舅内阁受诏\n",
      "第21章：曹操煮酒论英雄 关公赚城斩车胄\n",
      "第22章：袁曹各起马步三军 关张共擒王刘二将\n",
      "第23章：祢正平裸衣骂贼 吉太医下毒遭刑\n",
      "第24章：国贼行凶杀贵妃 皇叔败走投袁绍\n",
      "第25章：屯土山关公约三事 救白马曹操解重围\n",
      "第26章：袁本初败兵折将 关云长挂印封金\n",
      "第27章：美髯公千里走单骑 汉寿侯五关斩六将\n",
      "第28章：斩蔡阳兄弟释疑 会古城主臣聚义\n",
      "第29章：小霸王怒斩于吉 碧眼儿坐领江东\n",
      "第30章：战官渡本初败绩 劫乌巢孟德烧粮\n",
      "第31章：曹操仓亭破本初 玄德荆州依刘表\n",
      "第32章：夺冀州袁尚争锋 决漳河许攸献计\n",
      "第33章：曹丕乘乱纳甄氏 郭嘉遗计定辽东\n",
      "第34章：蔡夫人隔屏听密语 刘皇叔跃马过檀溪\n",
      "第35章：玄德南漳逢隐沧 单福新野遇英主\n",
      "第36章：玄德用计袭樊城 元直走马荐诸葛\n",
      "第37章：司马徽再荐名士 刘玄德三顾草庐\n",
      "第38章：定三分隆中决策 战长江孙氏报仇\n",
      "第39章：荆州城公子三求计 博望坡军师初用兵\n",
      "第40章：蔡夫人议献荆州 诸葛亮火烧新野\n",
      "第41章：刘玄德携民渡江 赵子龙单骑救主\n",
      "第42章：张翼德大闹长坂桥 刘豫州败走汉津口\n",
      "第43章：诸葛亮舌战群儒 鲁子敬力排众议\n",
      "第44章：孔明用智激周瑜 孙权决计破曹操\n",
      "第45章：三江口曹操折兵 群英会蒋干中计\n",
      "第46章：用奇谋孔明借箭 献密计黄盖受刑\n",
      "第47章：阚泽密献诈降书 庞统巧授连环计\n",
      "第48章：宴长江曹操赋诗 锁战船北军用武\n",
      "第49章：七星坛诸葛祭风 三江口周瑜纵火\n",
      "第50章：诸葛亮智算华容 关云长义释曹操\n",
      "第51章：曹仁大战东吴兵 孔明一气周公瑾\n",
      "第52章：诸葛亮智辞鲁肃 赵子龙计取桂阳\n",
      "第53章：关云长义释黄汉升 孙仲谋大战张文远\n",
      "第54章：吴国太佛寺看新郎 刘皇叔洞房续佳偶\n",
      "第55章：玄德智激孙夫人 孔明二气周公瑾\n",
      "第56章：曹操大宴铜雀台 孔明三气周公瑾\n",
      "第57章：柴桑口卧龙吊丧 耒阳县凤雏理事\n",
      "第58章：马孟起兴兵雪恨 曹阿瞒割须弃袍\n",
      "第59章：许诸裸衣斗马超 曹操抹书问韩遂\n",
      "第60章：张永年反难杨修 庞士元议取西蜀\n",
      "第61章：赵云截江夺阿斗 孙权遗书退老瞒\n",
      "第62章：取涪关杨高授首 攻雒城黄魏争功\n",
      "第63章：诸葛亮痛哭庞统 张翼德义释严颜\n",
      "第64章：孔明定计捉张任 杨阜借兵破马超\n",
      "第65章：马超大战葭萌关 刘备自领益州牧\n",
      "第66章：关云长单刀赴会 伏皇后为国捐生\n",
      "第67章：曹操平定汉中地 张辽威震逍遥津\n",
      "第68章：甘宁百骑劫魏营 左慈掷杯戏曹操\n",
      "第69章：卜周易管辂知机 讨汉贼五臣死节\n",
      "第70章：猛张飞智取瓦口隘 老黄忠计夺天荡山\n",
      "第71章：占对山黄忠逸待劳 据汉水赵云寡胜众\n",
      "第72章：诸葛亮智取汉中 曹阿瞒兵退斜谷\n",
      "第73章：玄德进位汉中王　云长攻拔襄阳郡\n",
      "第74章：庞令明抬榇决死战　关云长放水淹七军\n",
      "第75章：关云长刮骨疗毒　吕子明白衣渡江\n",
      "第76章：徐公明大战沔水　关云长败走麦城\n",
      "第77章：玉泉山关公显圣　洛阳城曹操感神\n",
      "第78章：治风疾神医身死　传遗命奸雄数终\n",
      "第79章：兄逼弟曹植赋诗　侄陷叔刘封伏法\n",
      "第80章：曹丕废帝篡炎刘　汉王正位续大统\n",
      "第81章：急兄仇张飞遇害　　雪弟恨先主兴兵\n",
      "第82章：孙权降魏受九锡　先主征吴赏六军\n",
      "第83章：战猇亭先主得仇人　守江口书生拜大将\n",
      "第84章：陆逊营烧七百里　孔明巧布八阵图\n",
      "第85章：刘先主遗诏托孤儿　诸葛亮安居平五路\n",
      "第86章：难张温秦宓逞天辩　破曹丕徐盛用火攻\n",
      "第87章：征南寇丞相大兴师　抗天兵蛮王初受执\n",
      "第88章：渡泸水再缚番王　识诈降三擒孟获\n",
      "第89章：武乡侯四番用计　南蛮王五次遭擒\n",
      "第90章：驱巨善六破蛮兵　烧藤甲七擒孟获\n",
      "第91章：祭泸水汉相班师　伐中原武侯上表\n",
      "第92章：赵子龙力斩五将　诸葛亮智取三城\n",
      "第93章：姜伯约归降孔明　武乡侯骂死王朝\n",
      "第94章：诸葛亮乘雪破羌兵　司马懿克日擒孟达\n",
      "第95章：马谡拒谏失街亭　武侯弹琴退仲达\n",
      "第96章：孔明挥泪斩马谡　周鲂断发赚曹休\n",
      "第97章：讨魏国武侯再上表　破曹兵姜维诈献书\n",
      "第98章：追汉军王双受诛　袭陈仓武侯取胜\n",
      "第99章：诸葛亮大破魏兵　司马懿入寇西蜀\n",
      "第100章：汉兵劫寨破曹真　武侯斗阵辱仲达\n",
      "第101章：出陇上诸葛妆神　奔剑阁张郃中计\n",
      "第102章：司马懿占北原渭桥　诸葛亮造木牛流马\n",
      "第103章：上方谷司马受困　五丈原诸葛禳星\n",
      "第104章：陨大星汉丞相归天　见木像魏都督丧胆\n",
      "第105章：武侯预伏锦囊计　魏主拆取承露盘\n",
      "第106章：公孙渊兵败死襄平　司马懿诈病赚曹爽\n",
      "第107章：魏主政归司马氏　姜维兵败牛头山\n",
      "第108章：丁奉雪中奋短兵　孙峻席间施密计\n",
      "第109章：困司马汉将奇谋　废曹芳魏家果报\n",
      "第110章：文鸯单骑退雄兵　姜维背水破大敌\n",
      "第111章：邓士载智败姜伯约　诸葛诞义讨司马昭\n",
      "第112章：救寿春于诠死节　取长城伯约鏖兵\n",
      "第113章：丁奉定计斩孙綝　姜维斗阵破邓艾\n",
      "第114章：曹髦驱车死南阙　姜维弃粮胜魏兵\n",
      "第115章：诏班师后主信谗　托屯田姜维避祸\n",
      "第116章：钟会分兵汉中道　武侯显圣定军山\n",
      "第117章：邓士载偷度阴平　诸葛瞻战死绵竹\n",
      "第118章：哭祖庙一王死孝　入西川二士争功\n",
      "第119章：假投降巧计成虚话　再受禅依样画葫芦\n",
      "第120章：荐杜预老将献新谋　降孙皓三分归一统\n"
     ]
    }
   ],
   "source": [
    "print(\"共{}章\".format(len(chapters)))\n",
    "for i in range(len(chapters)):\n",
    "    print(\"第{}章：{}\".format(i + 1, chapters[i]))"
   ]
  },
  {
   "cell_type": "markdown",
   "metadata": {},
   "source": [
    "# Task 2"
   ]
  },
  {
   "cell_type": "markdown",
   "metadata": {},
   "source": [
    "### 进行分析"
   ]
  },
  {
   "cell_type": "markdown",
   "metadata": {},
   "source": [
    "- 加载hanlp模型"
   ]
  },
  {
   "cell_type": "code",
   "execution_count": 8,
   "metadata": {},
   "outputs": [
    {
     "name": "stderr",
     "output_type": "stream",
     "text": [
      "/mnt/workspace_ssd/r3k_analysis/.conda/lib/python3.11/site-packages/torch/_utils.py:831: UserWarning: TypedStorage is deprecated. It will be removed in the future and UntypedStorage will be the only storage class. This should only matter to you if you are using storages directly.  To access UntypedStorage directly, use tensor.untyped_storage() instead of tensor.storage()\n",
      "  return self.fget.__get__(instance, owner)()\n",
      "                                             \r"
     ]
    }
   ],
   "source": [
    "import hanlp\n",
    "import tqdm\n",
    "\n",
    "HanLP = hanlp.load(\n",
    "    hanlp.pretrained.mtl.CLOSE_TOK_POS_NER_SRL_DEP_SDP_CON_ELECTRA_BASE_ZH\n",
    ")"
   ]
  },
  {
   "cell_type": "markdown",
   "metadata": {},
   "source": [
    "- 使用hanlp进行分词并统计"
   ]
  },
  {
   "cell_type": "code",
   "execution_count": 25,
   "metadata": {},
   "outputs": [
    {
     "name": "stderr",
     "output_type": "stream",
     "text": [
      "100%|██████████| 120/120 [01:32<00:00,  1.30it/s]\n"
     ]
    }
   ],
   "source": [
    "person = dict()\n",
    "for i in tqdm.tqdm(range(len(data))):\n",
    "    chapter = [data[i][\"chapter\"]]\n",
    "    for j in data[i][\"content\"]:\n",
    "        chapter.append(j)\n",
    "    for j in range(len(chapter)):\n",
    "        result = HanLP(chapter[j], tasks=\"ner/msra\")\n",
    "        for k in range(len(result[\"ner/msra\"])):\n",
    "            if result[\"ner/msra\"][k][1] == \"PERSON\":\n",
    "                word = result[\"ner/msra\"][k][0]\n",
    "                if word in person:\n",
    "                    person[word][\"count\"] += 1  # 计数\n",
    "                else:\n",
    "                    # 初始化\n",
    "                    person[word] = {}\n",
    "                    person[word][\"position\"] = []\n",
    "                    person[word][\"count\"] = 1\n",
    "                person[word][\"position\"].append((i + 1, j, k + 1))  # 以三维点集记录位置"
   ]
  },
  {
   "cell_type": "markdown",
   "metadata": {},
   "source": [
    "### 读取人名映射"
   ]
  },
  {
   "cell_type": "code",
   "execution_count": 26,
   "metadata": {},
   "outputs": [],
   "source": [
    "import json\n",
    "\n",
    "person_map = {}\n",
    "with open(\"dataset/map.json\", \"r\", encoding=\"utf-8-sig\") as f:\n",
    "    map_json = json.load(f)\n",
    "    for i in map_json.keys():\n",
    "        person_map[i] = set()\n",
    "        for j in map_json[i]:\n",
    "            person_map[i].add(j)\n",
    "person_dict = dict()\n",
    "person_export = dict()\n",
    "for i in person_map.keys():\n",
    "    if i not in person_export:\n",
    "        person_export[i] = {}\n",
    "    person_export[i][\"count\"] = 0\n",
    "    person_export[i][\"position\"] = set()\n",
    "    for j in person_map[i]:\n",
    "        person_dict[j] = i"
   ]
  },
  {
   "cell_type": "markdown",
   "metadata": {},
   "source": [
    "### 合并"
   ]
  },
  {
   "cell_type": "code",
   "execution_count": 27,
   "metadata": {},
   "outputs": [],
   "source": [
    "for i in person.keys():\n",
    "    if i in person_dict:\n",
    "        person_export[person_dict[i]][\"count\"] += person[i][\"count\"] # 计数信息\n",
    "        for j in person[i][\"position\"]: # 位置信息\n",
    "            person_export[person_dict[i]][\"position\"].add(j)\n",
    "    else:\n",
    "        if len(i) >= 2:\n",
    "            person_export[i] = person[i] # 未知人物"
   ]
  },
  {
   "cell_type": "markdown",
   "metadata": {},
   "source": [
    "### 排序处理"
   ]
  },
  {
   "cell_type": "code",
   "execution_count": 28,
   "metadata": {},
   "outputs": [],
   "source": [
    "persons = []\n",
    "for i in person_export.keys():\n",
    "    pos = list(person_export[i][\"position\"]) # 位置信息\n",
    "    pos = sorted(pos, key=lambda x: x[0]) # 按章节排序\n",
    "    persons.append([i, person_export[i][\"count\"], pos[0], pos]) # 保存人名、出现次数、首次出现位置、所有出现位置\n",
    "\n",
    "persons = sorted(persons, key=lambda x: x[1], reverse=True) # 按出现次数排序"
   ]
  },
  {
   "cell_type": "markdown",
   "metadata": {},
   "source": [
    "### 存储结果"
   ]
  },
  {
   "cell_type": "code",
   "execution_count": 29,
   "metadata": {},
   "outputs": [],
   "source": [
    "import csv\n",
    "\n",
    "with open(\"export/persons.csv\", \"w\", newline=\"\", encoding=\"utf-8-sig\") as csvfile:\n",
    "    writer = csv.writer(csvfile)\n",
    "    for i in persons:\n",
    "        writer.writerow(i)"
   ]
  },
  {
   "cell_type": "markdown",
   "metadata": {},
   "source": [
    "### 输出\n"
   ]
  },
  {
   "cell_type": "markdown",
   "metadata": {},
   "source": [
    "- 第一主角"
   ]
  },
  {
   "cell_type": "code",
   "execution_count": 30,
   "metadata": {},
   "outputs": [
    {
     "name": "stdout",
     "output_type": "stream",
     "text": [
      "曹操是第一主角\n",
      "第1名：曹操，共2723次\n",
      "第2名：刘备，共2105次\n",
      "第3名：诸葛亮，共1932次\n",
      "第4名：关羽，共846次\n",
      "第5名：吕布，共673次\n",
      "第6名：赵云，共585次\n",
      "第7名：司马懿，共569次\n",
      "第8名：周瑜，共566次\n",
      "第9名：孙权，共536次\n",
      "第10名：张飞，共534次\n",
      "第11名：姜维，共532次\n",
      "第12名：袁绍，共442次\n",
      "第13名：魏延，共408次\n",
      "第14名：马超，共322次\n",
      "第15名：邓艾，共293次\n",
      "第16名：董卓，共253次\n",
      "第17名：张郃，共237次\n",
      "第18名：黄忠，共234次\n",
      "第19名：孙策，共227次\n",
      "第20名：司马昭，共202次\n",
      "第21名：张辽，共184次\n",
      "第22名：徐晃，共183次\n",
      "第23名：孟获，共182次\n",
      "第24名：曹丕，共172次\n",
      "第25名：庞统，共169次\n",
      "第26名：曹仁，共162次\n",
      "第27名：关兴，共157次\n",
      "第28名：夏侯惇，共150次\n",
      "第29名：陆逊，共148次\n",
      "第30名：许褚，共145次\n",
      "第31名：刘璋，共144次\n",
      "第32名：刘表，共142次\n",
      "第33名：关平，共141次\n",
      "第34名：夏侯渊，共140次\n",
      "第35名：曹睿，共139次\n",
      "第36名：袁术，共134次\n",
      "第37名：曹真，共130次\n",
      "第38名：王允，共129次\n",
      "第39名：鲁肃，共128次\n",
      "第40名：曹洪，共126次\n",
      "第41名：庞德，共126次\n",
      "第42名：马岱，共126次\n",
      "第43名：吕蒙，共120次\n",
      "第44名：孙乾，共117次\n",
      "第45名：张苞，共117次\n",
      "第46名：太史慈，共106次\n",
      "第47名：郭汜，共104次\n",
      "第48名：王平，共101次\n",
      "第49名：郭淮，共100次\n",
      "第50名：廖化，共100次\n",
      "第51名：诸葛瑾，共98次\n",
      "第52名：张鲁，共97次\n",
      "第53名：司马，共94次\n",
      "第54名：孟达，共93次\n",
      "第55名：周泰，共91次\n",
      "第56名：李傕，共86次\n",
      "第57名：甘宁，共85次\n",
      "第58名：蔡瑁，共80次\n",
      "第59名：马腾，共79次\n",
      "第60名：李典，共78次\n",
      "第61名：张翼，共78次\n",
      "第62名：孙坚，共77次\n",
      "第63名：荀彧，共73次\n",
      "第64名：黄盖，共72次\n",
      "第65名：程普，共71次\n",
      "第66名：徐盛，共70次\n",
      "第67名：严颜，共69次\n",
      "第68名：明公，共68次\n",
      "第69名：张昭，共64次\n",
      "第70名：张任，共64次\n",
      "第71名：颜良，共61次\n",
      "第72名：诸葛，共60次\n",
      "第73名：贾诩，共58次\n",
      "第74名：钟会，共56次\n",
      "第75名：马谡，共55次\n",
      "第76名：法正，共55次\n",
      "第77名：韩当，共55次\n",
      "第78名：杨仪，共55次\n",
      "第79名：陈宫，共54次\n",
      "第80名：张嶷，共54次\n",
      "第81名：黄祖，共53次\n",
      "第82名：张梁，共52次\n",
      "第83名：孙皓，共50次\n",
      "第84名：董承，共50次\n",
      "第85名：郭嘉，共49次\n",
      "第86名：马忠，共49次\n",
      "第87名：公孙瓒，共45次\n",
      "第88名：曹休，共45次\n",
      "第89名：邓芝，共45次\n",
      "第90名：貂蝉，共44次\n",
      "第91名：糜竺，共44次\n",
      "第92名：丁奉，共44次\n",
      "第93名：曹植，共43次\n",
      "第94名：孔融，共43次\n",
      "第95名：程昱，共42次\n",
      "第96名：袁尚，共41次\n",
      "第97名：夏侯楙，共41次\n",
      "第98名：曹爽，共41次\n",
      "第99名：刘禅，共40次\n",
      "第100名：陶谦，共40次\n"
     ]
    }
   ],
   "source": [
    "print(\"{}是第一主角\".format(persons[0][0]))\n",
    "order = {}\n",
    "for i in range(100):\n",
    "    print(\"第{}名：{}，共{}次\".format(i + 1, persons[i][0], persons[i][1]))\n",
    "    order.update({persons[i][0]: persons[i][2]})  # 记录出场顺序"
   ]
  },
  {
   "cell_type": "markdown",
   "metadata": {},
   "source": [
    "- 出场顺序"
   ]
  },
  {
   "cell_type": "code",
   "execution_count": 31,
   "metadata": {},
   "outputs": [
    {
     "name": "stdout",
     "output_type": "stream",
     "text": [
      "公孙瓒:第1章第10句\n",
      "刘备:第1章第15句\n",
      "曹植:第1章第18句\n",
      "曹操:第1章第20句\n",
      "关羽:第1章第21句\n",
      "张飞:第1章第21句\n",
      "张梁:第1章第21句\n",
      "董卓:第1章第22句\n",
      "司马:第2章第4句\n",
      "颜良:第2章第4句\n",
      "孙坚:第2章第5句\n",
      "袁绍:第2章第13句\n",
      "郭汜:第3章第2句\n",
      "李傕:第3章第2句\n",
      "袁术:第3章第5句\n",
      "王允:第3章第10句\n",
      "吕布:第3章第12句\n",
      "陈宫:第4章第11句\n",
      "曹仁:第5章第2句\n",
      "夏侯惇:第5章第2句\n",
      "夏侯渊:第5章第2句\n",
      "曹洪:第5章第2句\n",
      "马腾:第5章第3句\n",
      "孔融:第5章第3句\n",
      "陶谦:第5章第3句\n",
      "黄盖:第5章第7句\n",
      "程普:第5章第7句\n",
      "赵云:第5章第9句\n",
      "韩当:第5章第9句\n",
      "李典:第6章第5句\n",
      "刘表:第6章第10句\n",
      "蔡瑁:第6章第10句\n",
      "孙权:第7章第10句\n",
      "黄祖:第7章第10句\n",
      "孙策:第7章第16句\n",
      "魏延:第8章第5句\n",
      "貂蝉:第8章第7句\n",
      "贾诩:第9章第0句\n",
      "马超:第10章第3句\n",
      "关平:第10章第4句\n",
      "荀彧:第10章第4句\n",
      "郭嘉:第10章第4句\n",
      "程昱:第10章第4句\n",
      "严颜:第10章第5句\n",
      "明公:第10章第6句\n",
      "糜竺:第11章第1句\n",
      "吕蒙:第11章第2句\n",
      "太史慈:第11章第5句\n",
      "张辽:第11章第13句\n",
      "孙乾:第12章第8句\n",
      "许褚:第12章第10句\n",
      "徐晃:第13章第11句\n",
      "董承:第13章第11句\n",
      "司马昭:第14章第6句\n",
      "张昭:第15章第5句\n",
      "周瑜:第15章第7句\n",
      "周泰:第15章第10句\n",
      "刘璋:第16章第13句\n",
      "张鲁:第16章第13句\n",
      "张郃:第22章第72句\n",
      "黄忠:第22章第74句\n",
      "廖化:第27章第3句\n",
      "鲁肃:第29章第8句\n",
      "诸葛瑾:第29章第11句\n",
      "诸葛:第29章第11句\n",
      "袁尚:第30章第13句\n",
      "曹丕:第32章第14句\n",
      "刘禅:第34章第4句\n",
      "庞统:第35章第2句\n",
      "庞德:第35章第2句\n",
      "诸葛亮:第36章第6句\n",
      "关兴:第38章第6句\n",
      "陆逊:第38章第6句\n",
      "徐盛:第38章第6句\n",
      "丁奉:第38章第6句\n",
      "甘宁:第38章第12句\n",
      "司马懿:第39章第8句\n",
      "马谡:第52章第4句\n",
      "曹休:第56章第4句\n",
      "马岱:第57章第9句\n",
      "孟达:第60章第7句\n",
      "法正:第60章第10句\n",
      "张任:第60章第12句\n",
      "张翼:第64章第4句\n",
      "邓芝:第65章第10句\n",
      "郭淮:第70章第6句\n",
      "王平:第71章第10句\n",
      "马忠:第77章第5句\n",
      "张苞:第81章第13句\n",
      "曹真:第84章第17句\n",
      "孟获:第85章第17句\n",
      "张嶷:第87章第17句\n",
      "姜维:第91章第3句\n",
      "曹睿:第91章第15句\n",
      "杨仪:第91章第20句\n",
      "夏侯楙:第91章第25句\n",
      "曹爽:第106章第0句\n",
      "邓艾:第107章第13句\n",
      "钟会:第110章第3句\n",
      "孙皓:第113章第7句\n"
     ]
    }
   ],
   "source": [
    "sorted_order = sorted(order.items(), key=lambda x: (x[1][0], x[1][1])) # 按章节排序\n",
    "for name, position in sorted_order:\n",
    "    print(\"{}:第{}章第{}句\".format(name, position[0], position[1])) # 输出出场顺序"
   ]
  },
  {
   "cell_type": "markdown",
   "metadata": {},
   "source": [
    "# Task 3"
   ]
  },
  {
   "cell_type": "markdown",
   "metadata": {},
   "source": [
    "### 读取 Task 2 中获取的数据并转换"
   ]
  },
  {
   "cell_type": "code",
   "execution_count": 32,
   "metadata": {},
   "outputs": [],
   "source": [
    "import csv\n",
    "import numpy as np\n",
    "\n",
    "max_cnt=10\n",
    "def parse(s):\n",
    "    # 移除方括号并分割元组字符串\n",
    "    s = s.strip(\"[]\")\n",
    "    tuple_strings = s.split(\"), (\")\n",
    "\n",
    "    result = []\n",
    "    for t in tuple_strings:\n",
    "        # 清理元组字符串\n",
    "        t = t.strip(\"()\")\n",
    "        # 分割并转换为整数\n",
    "        numbers = [int(x) for x in t.split(\", \")]\n",
    "        # 转换为元组并添加到结果列表\n",
    "        result.append(tuple(numbers))\n",
    "    return result\n",
    "\n",
    "\n",
    "persons = {}\n",
    "with open(\"export/persons.csv\", \"r\", encoding=\"utf-8-sig\") as csvfile:\n",
    "    reader = csv.reader(csvfile)\n",
    "    count = 0\n",
    "    for row in reader:\n",
    "        if count == max_cnt:\n",
    "            break\n",
    "        count += 1\n",
    "        persons[row[0]] = []\n",
    "        input_data = parse(row[3])\n",
    "        for k in input_data:\n",
    "            persons[row[0]].append(np.array(k))  # 读取位置信息并转换为向量"
   ]
  },
  {
   "cell_type": "markdown",
   "metadata": {},
   "source": [
    "### 对数据进行加权"
   ]
  },
  {
   "cell_type": "code",
   "execution_count": 33,
   "metadata": {},
   "outputs": [
    {
     "name": "stdout",
     "output_type": "stream",
     "text": [
      "平均每章17.441666666666666句，每句60.53441924928282词\n"
     ]
    }
   ],
   "source": [
    "# 统计平均数量\n",
    "avg_lines=0\n",
    "avg_words=0\n",
    "for i in range(len(data)):\n",
    "    avg_lines+=len(data[i][\"content\"])\n",
    "    for j in range(len(data[i][\"content\"])):\n",
    "        avg_words+=len(data[i][\"content\"][j]) \n",
    "    avg_words/=len(data[i][\"content\"])\n",
    "avg_lines/=len(data)\n",
    "avg_words/=3\n",
    "print(\"平均每章{}句，每句{}词\".format(avg_lines,avg_words))\n",
    "# 加权\n",
    "for i in persons.keys():\n",
    "    for j in range(len(persons[i])):\n",
    "        persons[i][j][0]=persons[i][j][0]*avg_lines*avg_words\n",
    "        persons[i][j][1]=persons[i][j][1]*avg_words "
   ]
  },
  {
   "cell_type": "markdown",
   "metadata": {},
   "source": [
    "### 计算相关度\n",
    "- 使用点集中的点到点集的最邻近距离计算"
   ]
  },
  {
   "cell_type": "code",
   "execution_count": 34,
   "metadata": {},
   "outputs": [
    {
     "name": "stdout",
     "output_type": "stream",
     "text": [
      "使用GPU加速计算\n"
     ]
    },
    {
     "name": "stderr",
     "output_type": "stream",
     "text": [
      " 10%|█         | 1/10 [00:00<00:00,  9.25it/s]"
     ]
    },
    {
     "name": "stderr",
     "output_type": "stream",
     "text": [
      "100%|██████████| 10/10 [00:00<00:00, 23.90it/s]\n"
     ]
    }
   ],
   "source": [
    "import torch \n",
    "from tqdm import tqdm\n",
    "import numpy as np\n",
    "\n",
    "def calc(persons):\n",
    "    device = torch.device(\"cuda\" if torch.cuda.is_available() else \"cpu\")\n",
    "    dis = {}\n",
    "\n",
    "    # 预处理：将numpy数组转换为单个tensor\n",
    "    person_tensors = {\n",
    "        k: torch.from_numpy(np.array(v, dtype=np.float32)).to(device)\n",
    "        for k, v in persons.items()\n",
    "    }\n",
    "\n",
    "    for i in tqdm(person_tensors.keys()):\n",
    "        for j in person_tensors.keys():\n",
    "            if i == j:\n",
    "                continue\n",
    "\n",
    "            points_i = person_tensors[i]\n",
    "            points_j = person_tensors[j]\n",
    "\n",
    "            with torch.no_grad():\n",
    "                # 计算距离\n",
    "                distances = torch.cdist(points_i, points_j, p=1)\n",
    "                min_distances = torch.min(distances, dim=1)[0]  # 取最小值\n",
    "                dis[(i, j)] = float(torch.mean(min_distances).cpu()) # 计算平均值\n",
    "\n",
    "    return dis\n",
    "\n",
    "\n",
    "if torch.cuda.is_available():\n",
    "    torch.backends.cudnn.benchmark = True\n",
    "    print(\"使用GPU加速计算\")\n",
    "else:\n",
    "    print(\"使用CPU计算\")\n",
    "\n",
    "dis = calc(persons)"
   ]
  },
  {
   "cell_type": "markdown",
   "metadata": {},
   "source": [
    "### 排序并储存"
   ]
  },
  {
   "cell_type": "code",
   "execution_count": 35,
   "metadata": {},
   "outputs": [],
   "source": [
    "import csv\n",
    "\n",
    "with open(\"export/distance.csv\", \"w\", newline=\"\", encoding=\"utf-8-sig\") as csvfile:\n",
    "    writer = csv.writer(csvfile)\n",
    "    dis_sorted = sorted(dis.items(), key=lambda x: x[1]) # 按距离排序\n",
    "    for relation, distance in dis_sorted:\n",
    "        writer.writerow([relation[0], relation[1], distance])"
   ]
  },
  {
   "cell_type": "markdown",
   "metadata": {},
   "source": [
    "### 输出"
   ]
  },
  {
   "cell_type": "code",
   "execution_count": 36,
   "metadata": {},
   "outputs": [
    {
     "name": "stdout",
     "output_type": "stream",
     "text": [
      "第1近的关系：张飞和刘备，距离为68.11610412597656\n",
      "第2近的关系：周瑜和曹操，距离为81.432861328125\n",
      "第3近的关系：司马懿和诸葛亮，距离为84.8980712890625\n",
      "第4近的关系：张飞和曹操，距离为147.1591796875\n",
      "第5近的关系：刘备和曹操，距离为152.11923217773438\n",
      "第6近的关系：关羽和曹操，距离为172.51063537597656\n",
      "第7近的关系：关羽和刘备，距离为255.2423095703125\n",
      "第8近的关系：周瑜和刘备，距离为282.6095275878906\n",
      "第9近的关系：曹操和刘备，距离为296.5625915527344\n",
      "第10近的关系：刘备和张飞，距离为364.4641418457031\n",
      "第11近的关系：吕布和曹操，距离为375.0074157714844\n",
      "第12近的关系：刘备和关羽，距离为467.9377746582031\n",
      "第13近的关系：周瑜和孙权，距离为475.27032470703125\n",
      "第14近的关系：孙权和曹操，距离为493.4291076660156\n",
      "第15近的关系：吕布和刘备，距离为534.30908203125\n",
      "第16近的关系：赵云和曹操，距离为612.7350463867188\n",
      "第17近的关系：张飞和关羽，距离为648.21533203125\n",
      "第18近的关系：关羽和赵云，距离为658.1572265625\n",
      "第19近的关系：吕布和关羽，距离为659.157470703125\n",
      "第20近的关系：周瑜和赵云，距离为688.0706787109375\n",
      "第21近的关系：周瑜和关羽，距离为718.3604125976562\n",
      "第22近的关系：孙权和刘备，距离为718.7798461914062\n",
      "第23近的关系：周瑜和张飞，距离为742.7509155273438\n",
      "第24近的关系：吕布和张飞，距离为782.3060913085938\n",
      "第25近的关系：关羽和张飞，距离为788.5011596679688\n",
      "第26近的关系：张飞和赵云，距离为789.664794921875\n",
      "第27近的关系：刘备和赵云，距离为820.5316162109375\n",
      "第28近的关系：曹操和张飞，距离为863.4215698242188\n",
      "第29近的关系：曹操和关羽，距离为868.35693359375\n",
      "第30近的关系：周瑜和诸葛亮，距离为888.67138671875\n"
     ]
    }
   ],
   "source": [
    "for i in range(30):\n",
    "    print(\"第{}近的关系：{}和{}，距离为{}\".format(i + 1, dis_sorted[i][0][0], dis_sorted[i][0][1], dis_sorted[i][1]))"
   ]
  },
  {
   "cell_type": "markdown",
   "metadata": {},
   "source": [
    "# Task 4"
   ]
  },
  {
   "cell_type": "markdown",
   "metadata": {},
   "source": [
    "### 读取人物映射"
   ]
  },
  {
   "cell_type": "code",
   "execution_count": 45,
   "metadata": {},
   "outputs": [],
   "source": [
    "import json\n",
    "\n",
    "person_map = {}\n",
    "with open(\"dataset/map.json\", \"r\", encoding=\"utf-8-sig\") as f:\n",
    "    map_json = json.load(f)\n",
    "    for i in map_json.keys():\n",
    "        person_map[i] = set()\n",
    "        for j in map_json[i]:\n",
    "            person_map[i].add(j)\n",
    "person_dict = dict()\n",
    "person_export = dict()\n",
    "for i in person_map.keys():\n",
    "    if i not in person_export:\n",
    "        person_export[i] = {}\n",
    "    person_export[i][\"count\"] = 0\n",
    "    person_export[i][\"position\"] = set()\n",
    "    for j in person_map[i]:\n",
    "        person_dict[j] = i"
   ]
  },
  {
   "cell_type": "markdown",
   "metadata": {},
   "source": [
    "### 加载模型"
   ]
  },
  {
   "cell_type": "markdown",
   "metadata": {},
   "source": [
    "- 设置提示词"
   ]
  },
  {
   "cell_type": "code",
   "execution_count": 12,
   "metadata": {},
   "outputs": [],
   "source": [
    "\n",
    "summaryprompt = \"\"\" \n",
    "对于输入的章节，请总结其中的一个战役信息，包括以下内容，并以 JSON 格式输出：  \n",
    "1. **战役名称**：明确战役的名称，如果未提及，请根据章节内容提取合适的描述。  \n",
    "2. **参与双方**：列出战役中的主要参与方，每方包括核心人物（如将领或领导者）。  \n",
    "3. **胜败情况**：说明战役的结果（哪一方获胜或是否为僵持局面）。  \n",
    "输出的 JSON 格式如下：  \n",
    "```json\n",
    "{\n",
    "  \"战役名称\": \"<战役名称>\",\n",
    "  \"参与双方\": {\n",
    "    \"<名称>\": [\"<人物1>\", \"<人物2>\", \"...\"]\n",
    "    \"<名称>\": [\"<人物1>\", \"<人物2>\", \"...\"]\n",
    "  },\n",
    "  \"胜败情况\": \"<参与双方中获胜一方的名称>获胜\"或\"僵持局面\"\n",
    "}\n",
    "不要输出其他信息，如果无法提取到信息，请不要输出。\n",
    "\"\"\""
   ]
  },
  {
   "cell_type": "markdown",
   "metadata": {},
   "source": [
    "- 使用Ollama加载GLM 4"
   ]
  },
  {
   "cell_type": "code",
   "execution_count": null,
   "metadata": {},
   "outputs": [],
   "source": [
    "import ollama\n",
    "server_address='http://100.63.0.7:11434' # 服务器地址\n",
    "client=ollama.Client(host=server_address)\n",
    "model=\"glm4\" # 使用glm4模型"
   ]
  },
  {
   "cell_type": "markdown",
   "metadata": {},
   "source": [
    "### 总结战役"
   ]
  },
  {
   "cell_type": "markdown",
   "metadata": {},
   "source": [
    "- 提取信息"
   ]
  },
  {
   "cell_type": "code",
   "execution_count": 22,
   "metadata": {},
   "outputs": [
    {
     "name": "stderr",
     "output_type": "stream",
     "text": [
      "100%|██████████| 120/120 [04:51<00:00,  2.43s/it]\n"
     ]
    }
   ],
   "source": [
    "import tqdm\n",
    "import json\n",
    "result = []\n",
    "for chapter in tqdm.tqdm(data):\n",
    "    msg = chapter[\"chapter\"] + \"\\n\"\n",
    "    for line in chapter[\"content\"]:\n",
    "        msg += line + \"\\n\"  # 构造请求\n",
    "    response=client.chat(model=model, messages=[{\"role\": \"user\", \"content\": msg+summaryprompt}]) # 发送请求\n",
    "    if response['message']['content'] != \"\":\n",
    "        responseJson = json.loads(response['message']['content'][7:-3]) # 解析JSON\n",
    "        result.append(responseJson)\n",
    "\n",
    "with open(\"dataset/battle.json\", \"w\", encoding=\"utf-8-sig\") as f:\n",
    "    json.dump(result, f, ensure_ascii=False, indent=4)\n"
   ]
  },
  {
   "cell_type": "markdown",
   "metadata": {},
   "source": [
    "### 数据统计"
   ]
  },
  {
   "cell_type": "markdown",
   "metadata": {},
   "source": [
    "- 读取数据"
   ]
  },
  {
   "cell_type": "code",
   "execution_count": 31,
   "metadata": {},
   "outputs": [],
   "source": [
    "import json\n",
    "with open(\"dataset/battle.json\", \"r\", encoding=\"utf-8-sig\") as f:\n",
    "    result = json.load(f)"
   ]
  },
  {
   "cell_type": "markdown",
   "metadata": {},
   "source": [
    "- 统计信息"
   ]
  },
  {
   "cell_type": "code",
   "execution_count": 46,
   "metadata": {},
   "outputs": [],
   "source": [
    "battlelog = {}\n",
    "for i in result:\n",
    "    for j in i[\"参与双方\"]:\n",
    "        for k in i[\"参与双方\"][j]:\n",
    "            if k not in person_dict: # 未知人物\n",
    "                name=k\n",
    "            else:\n",
    "                name=person_dict[k]\n",
    "            if name not in battlelog: # 初始化\n",
    "                battlelog[name] = {\"win\": [], \"lose\": []}\n",
    "            if j+\"获胜\"==i[\"胜败情况\"]: \n",
    "                battlelog[name][\"win\"].append(i[\"战役名称\"])\n",
    "            else:\n",
    "                battlelog[name][\"lose\"].append(i[\"战役名称\"])\n",
    "import csv\n",
    "with open(\"export/battlelog.csv\", \"w\", newline=\"\", encoding=\"utf-8-sig\") as csvfile:\n",
    "    writer = csv.writer(csvfile)\n",
    "    for i in battlelog.keys():\n",
    "        writer.writerow([i, battlelog[i][\"win\"], battlelog[i][\"lose\"]])"
   ]
  },
  {
   "cell_type": "markdown",
   "metadata": {},
   "source": [
    "### 输出结果"
   ]
  },
  {
   "cell_type": "code",
   "execution_count": 47,
   "metadata": {},
   "outputs": [
    {
     "name": "stdout",
     "output_type": "stream",
     "text": [
      "第1名：曹操，胜22次，负25次，胜率0.46808510638297873\n",
      "第2名：诸葛亮，胜20次，负8次，胜率0.7142857142857143\n",
      "第3名：关羽，胜13次，负8次，胜率0.6190476190476191\n",
      "第4名：赵云，胜13次，负5次，胜率0.7222222222222222\n",
      "第5名：张辽，胜11次，负6次，胜率0.6470588235294118\n",
      "第6名：周瑜，胜9次，负3次，胜率0.75\n",
      "第7名：张飞，胜8次，负7次，胜率0.5333333333333333\n",
      "第8名：徐晃，胜8次，负2次，胜率0.8\n",
      "第9名：姜维，胜8次，负7次，胜率0.5333333333333333\n",
      "第10名：刘备，胜7次，负12次，胜率0.3684210526315789\n",
      "第11名：夏侯渊，胜7次，负1次，胜率0.875\n",
      "第12名：魏延，胜7次，负3次，胜率0.7\n",
      "第13名：夏侯惇，胜6次，负5次，胜率0.5454545454545454\n",
      "第14名：许褚，胜6次，负3次，胜率0.6666666666666666\n",
      "第15名：孙权，胜6次，负6次，胜率0.5\n",
      "第16名：乐进，胜5次，负0次，胜率1.0\n",
      "第17名：李典，胜5次，负2次，胜率0.7142857142857143\n",
      "第18名：张翼，胜5次，负2次，胜率0.7142857142857143\n",
      "第19名：王平，胜5次，负1次，胜率0.8333333333333334\n",
      "第20名：于禁，胜4次，负4次，胜率0.5\n",
      "第21名：甘宁，胜4次，负2次，胜率0.6666666666666666\n",
      "第22名：周泰，胜3次，负1次，胜率0.75\n",
      "第23名：曹丕，胜3次，负0次，胜率1.0\n",
      "第24名：黄忠，胜3次，负1次，胜率0.75\n",
      "第25名：孟达，胜3次，负1次，胜率0.75\n",
      "第26名：马岱，胜3次，负1次，胜率0.75\n",
      "第27名：张苞，胜3次，负3次，胜率0.5\n",
      "第28名：关兴，胜3次，负3次，胜率0.5\n",
      "第29名：邓艾，胜3次，负5次，胜率0.375\n",
      "第30名：吕布，胜2次，负7次，胜率0.2222222222222222\n",
      "第31名：陈宫，胜2次，负3次，胜率0.4\n",
      "第32名：韩当，胜2次，负3次，胜率0.4\n",
      "第33名：程普，胜2次，负1次，胜率0.6666666666666666\n",
      "第34名：典韦，胜2次，负1次，胜率0.6666666666666666\n",
      "第35名：高顺，胜2次，负4次，胜率0.3333333333333333\n",
      "第36名：曹仁，胜2次，负7次，胜率0.2222222222222222\n",
      "第37名：文聘，胜2次，负2次，胜率0.5\n",
      "第38名：吕蒙，胜2次，负3次，胜率0.4\n",
      "第39名：潘璋，胜2次，负1次，胜率0.6666666666666666\n",
      "第40名：曹洪，胜2次，负2次，胜率0.5\n",
      "第41名：阚泽，胜2次，负0次，胜率1.0\n",
      "第42名：凌统，胜2次，负2次，胜率0.5\n",
      "第43名：陆逊，胜2次，负2次，胜率0.5\n",
      "第44名：张嶷，胜2次，负0次，胜率1.0\n",
      "第45名：马忠，胜2次，负0次，胜率1.0\n",
      "第46名：司马懿，胜2次，负7次，胜率0.2222222222222222\n",
      "第47名：夏侯霸，胜2次，负2次，胜率0.5\n",
      "第48名：司马昭，胜2次，负2次，胜率0.5\n",
      "第49名：钟会，胜2次，负1次，胜率0.6666666666666666\n",
      "第50名：司马炎，胜2次，负0次，胜率1.0\n",
      "第51名：皇甫嵩，胜1次，负0次，胜率1.0\n",
      "第52名：朱儁，胜1次，负0次，胜率1.0\n",
      "第53名：刘备（玄德），胜1次，负0次，胜率1.0\n",
      "第54名：董卓，胜1次，负2次，胜率0.3333333333333333\n",
      "第55名：黄盖，胜1次，负2次，胜率0.3333333333333333\n",
      "第56名：吕公，胜1次，负0次，胜率1.0\n",
      "第57名：黄祖，胜1次，负1次，胜率0.5\n",
      "第58名：蒯越，胜1次，负0次，胜率1.0\n",
      "第59名：蔡瑁，胜1次，负2次，胜率0.3333333333333333\n",
      "第60名：李傕，胜1次，负1次，胜率0.5\n",
      "第61名：郭汜，胜1次，负1次，胜率0.5\n",
      "第62名：臧霸，胜1次，负1次，胜率0.5\n",
      "第63名：李乐，胜1次，负0次，胜率1.0\n",
      "第64名：伏德，胜1次，负0次，胜率1.0\n",
      "第65名：尚弘，胜1次，负0次，胜率1.0\n",
      "第66名：韩融，胜1次，负0次，胜率1.0\n",
      "第67名：吕虔，胜1次，负0次，胜率1.0\n",
      "第68名：程昱，胜1次，负3次，胜率0.25\n",
      "第69名：辛毗，胜1次，负0次，胜率1.0\n",
      "第70名：单福，胜1次，负0次，胜率1.0\n",
      "第71名：董袭，胜1次，负1次，胜率0.5\n",
      "第72名：庞统，胜1次，负2次，胜率0.3333333333333333\n",
      "第73名：蔡和，胜1次，负0次，胜率1.0\n",
      "第74名：陈应，胜1次，负0次，胜率1.0\n",
      "第75名：鲍隆，胜1次，负0次，胜率1.0\n",
      "第76名：庞德，胜1次，负2次，胜率0.3333333333333333\n",
      "第77名：霍峻，胜1次，负0次，胜率1.0\n",
      "第78名：吴懿，胜1次，负1次，胜率0.5\n",
      "第79名：严颜，胜1次，负1次，胜率0.5\n",
      "第80名：姜叙，胜1次，负0次，胜率1.0\n",
      "第81名：杨阜，胜1次，负0次，胜率1.0\n",
      "第82名：张郃，胜1次，负4次，胜率0.2\n",
      "第83名：夏侯尚，胜1次，负1次，胜率0.5\n",
      "第84名：刘封，胜1次，负1次，胜率0.5\n",
      "第85名：关平，胜1次，负1次，胜率0.5\n",
      "第86名：虞翻，胜1次，负0次，胜率1.0\n",
      "第87名：孙桓，胜1次，负0次，胜率1.0\n",
      "第88名：朱然，胜1次，负0次，胜率1.0\n",
      "第89名：刘晔，胜1次，负0次，胜率1.0\n",
      "第90名：蒋济，胜1次，负0次，胜率1.0\n",
      "第91名：关索，胜1次，负0次，胜率1.0\n",
      "第92名：朵思大王，胜1次，负0次，胜率1.0\n",
      "第93名：刘琰，胜1次，负0次，胜率1.0\n",
      "第94名：申耽，胜1次，负0次，胜率1.0\n",
      "第95名：申仪，胜1次，负0次，胜率1.0\n",
      "第96名：周鲂，胜1次，负0次，胜率1.0\n",
      "第97名：朱桓，胜1次，负0次，胜率1.0\n",
      "第98名：全琮，胜1次，负0次，胜率1.0\n",
      "第99名：杨仪，胜1次，负0次，胜率1.0\n",
      "第100名：廖化，胜1次，负2次，胜率0.3333333333333333\n"
     ]
    }
   ],
   "source": [
    "battlelist = list(battlelog)\n",
    "battlelist.sort(\n",
    "    key=lambda x: (\n",
    "        len(battlelog[x][\"win\"])\n",
    "    ),\n",
    "    reverse=True,\n",
    ") # 按胜场排序\n",
    "for i in range(100):\n",
    "    print(\n",
    "        \"第{}名：{}，胜{}次，负{}次，胜率{}\".format(\n",
    "            i + 1,\n",
    "            battlelist[i],\n",
    "            len(battlelog[battlelist[i]][\"win\"]),\n",
    "            len(battlelog[battlelist[i]][\"lose\"]),\n",
    "            len(battlelog[battlelist[i]][\"win\"])/ (len(battlelog[battlelist[i]][\"win\"]) + len(battlelog[battlelist[i]][\"lose\"])),\n",
    "        ) \n",
    "    )"
   ]
  },
  {
   "cell_type": "markdown",
   "metadata": {},
   "source": [
    "# 交互查询"
   ]
  },
  {
   "cell_type": "markdown",
   "metadata": {},
   "source": [
    "- 初始化"
   ]
  },
  {
   "cell_type": "code",
   "execution_count": 37,
   "metadata": {},
   "outputs": [],
   "source": [
    "import ipywidgets as widgets\t# 控件库\n",
    "from IPython.display import display\t# 显示控件的方法"
   ]
  }
 ],
 "metadata": {
  "kernelspec": {
   "display_name": ".conda",
   "language": "python",
   "name": "python3"
  },
  "language_info": {
   "codemirror_mode": {
    "name": "ipython",
    "version": 3
   },
   "file_extension": ".py",
   "mimetype": "text/x-python",
   "name": "python",
   "nbconvert_exporter": "python",
   "pygments_lexer": "ipython3",
   "version": "3.11.11"
  }
 },
 "nbformat": 4,
 "nbformat_minor": 2
}
